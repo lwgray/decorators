{
 "cells": [
  {
   "cell_type": "markdown",
   "metadata": {},
   "source": [
    "<img src=\"img/python.png\">\n",
    "<img src=\"img/decorator.png\">"
   ]
  },
  {
   "cell_type": "markdown",
   "metadata": {},
   "source": [
    "Functions\n",
    "=====\n"
   ]
  },
  {
   "cell_type": "code",
   "execution_count": 53,
   "metadata": {
    "collapsed": true
   },
   "outputs": [],
   "source": [
    "def foo():\n",
    "    return 1"
   ]
  },
  {
   "cell_type": "markdown",
   "metadata": {},
   "source": [
    "functions are first class objects\n",
    "-----------------------------------"
   ]
  },
  {
   "cell_type": "code",
   "execution_count": 49,
   "metadata": {},
   "outputs": [
    {
     "data": {
      "text/plain": [
       "'I AM THE BOOGIE MAN!!'"
      ]
     },
     "execution_count": 49,
     "metadata": {},
     "output_type": "execute_result"
    }
   ],
   "source": [
    "# 1. You can assign functions to variables\n",
    "def yell(text):\n",
    "    return text.upper() + '!'\n",
    "hello = yell\n",
    "\n",
    "hello('I am the boogie man!')"
   ]
  },
  {
   "cell_type": "code",
   "execution_count": 31,
   "metadata": {},
   "outputs": [
    {
     "name": "stdout",
     "output_type": "stream",
     "text": [
      "AWW!!!!!!!!!!!\n"
     ]
    }
   ],
   "source": [
    "#2 You can pass functions as arguments\n",
    "def scream(func, text):\n",
    "    print(func(text) + '!'*10)\n",
    "\n",
    "scream(yell, 'Aww')"
   ]
  },
  {
   "cell_type": "code",
   "execution_count": 32,
   "metadata": {},
   "outputs": [
    {
     "name": "stdout",
     "output_type": "stream",
     "text": [
      "Trick-or-Treat Trick-or-Treat \n",
      "\n",
      "Trick-or-Treat Trick-or-Treat Trick-or-Treat \n"
     ]
    }
   ],
   "source": [
    "#3 You can have functions inside of functions (nested functions)\n",
    "def say_again(text):\n",
    "    def twice():\n",
    "        return text * 2\n",
    "    \n",
    "    def thrice():\n",
    "        return text * 3\n",
    "    \n",
    "    print(twice())\n",
    "    print()\n",
    "    print(thrice())\n",
    "\n",
    "say_again('Trick-or-Treat ')"
   ]
  },
  {
   "cell_type": "code",
   "execution_count": 33,
   "metadata": {},
   "outputs": [
    {
     "name": "stdout",
     "output_type": "stream",
     "text": [
      "<function parent.<locals>.first_child at 0xb5c1592c>\n",
      "<function parent.<locals>.second_child at 0xb36d3f5c>\n",
      "\n",
      "I'm the first child\n",
      "I'm the second child\n"
     ]
    }
   ],
   "source": [
    "#4 You can return functions\n",
    "def parent(num):\n",
    "    def first_child():\n",
    "        print(\"I'm the first child\")\n",
    "    def second_child():\n",
    "        print(\"I'm the second child\")\n",
    "    if num <= 10:\n",
    "        return first_child\n",
    "    else:\n",
    "        return second_child\n",
    "\n",
    "x = parent(10)\n",
    "y = parent(20)\n",
    "\n",
    "print(x)\n",
    "print(y)\n",
    "print()\n",
    "x()\n",
    "y()"
   ]
  },
  {
   "cell_type": "markdown",
   "metadata": {},
   "source": [
    "Composition of Decorators\n",
    "=============\n",
    "\n",
    "A <u>@decorator</u> is a <u>function</u> that alters the functionality of another <br>\n",
    "<u>function</u> <i>without</i> having to directly change the source code of the <br>\n",
    "function being decorated\n",
    "    "
   ]
  },
  {
   "cell_type": "code",
   "execution_count": 34,
   "metadata": {},
   "outputs": [
    {
     "name": "stdout",
     "output_type": "stream",
     "text": [
      "HELLO!\n"
     ]
    }
   ],
   "source": [
    "def yell(text):\n",
    "    return text.upper() + '!'\n",
    "\n",
    "def whisper(text):\n",
    "    return text.lower()\n",
    "\n",
    "what_ya_say = yell(whisper('Hello')) #whisper function has been decorated with yell function\n",
    "\n",
    "print(what_ya_say)"
   ]
  },
  {
   "cell_type": "code",
   "execution_count": 35,
   "metadata": {},
   "outputs": [
    {
     "data": {
      "text/plain": [
       "'<p> Larry loves Galaga </p>'"
      ]
     },
     "execution_count": 35,
     "metadata": {},
     "output_type": "execute_result"
    }
   ],
   "source": [
    "def p_decorate(func):\n",
    "    def func_wrapper(title):\n",
    "        return '<p> {0} </p>'.format(func(title))\n",
    "    return func_wrapper\n",
    "\n",
    "def get_game(title):\n",
    "    return 'Larry loves {0}'.format(title)\n",
    "\n",
    "i_play = p_decorate(get_game) \n",
    "i_play('Galaga')"
   ]
  },
  {
   "cell_type": "code",
   "execution_count": 36,
   "metadata": {},
   "outputs": [
    {
     "data": {
      "text/plain": [
       "'<p> Larry loves Galaga </p>'"
      ]
     },
     "execution_count": 36,
     "metadata": {},
     "output_type": "execute_result"
    }
   ],
   "source": [
    "# To have get_text itself be decorated by p_decorate, \n",
    "# we just have to assign get_text to the result of p_decorate.\n",
    "get_game = p_decorate(get_game)\n",
    "get_game('Galaga')"
   ]
  },
  {
   "cell_type": "markdown",
   "metadata": {},
   "source": [
    "\n",
    "\n"
   ]
  },
  {
   "cell_type": "code",
   "execution_count": 48,
   "metadata": {},
   "outputs": [
    {
     "name": "stdout",
     "output_type": "stream",
     "text": [
      "<p> Larry loves Mrs. Pac-Man </p>\n"
     ]
    }
   ],
   "source": [
    "def p_decorate(func):\n",
    "    def func_wrapper(title):\n",
    "        return '<p> {0} </p>'.format(func(title))\n",
    "    return func_wrapper\n",
    "\n",
    "# syntatic sugar\n",
    "@p_decorate\n",
    "def get_game(title):\n",
    "    return 'Larry loves {0}'.format(title)\n",
    "\n",
    "print(get_game('Mrs. Pac-Man'))"
   ]
  },
  {
   "cell_type": "markdown",
   "metadata": {},
   "source": []
  },
  {
   "cell_type": "code",
   "execution_count": 38,
   "metadata": {
    "collapsed": true
   },
   "outputs": [],
   "source": [
    "# Standard way to apply all these functions to get_game\n",
    "def p_decorate(func):\n",
    "    def func_wrapper(title):\n",
    "        return '<p> {0} </p>'.format(func(title))\n",
    "    return func_wrapper\n",
    "\n",
    "def strong_decorate(func):\n",
    "    def func_wrapper(title):\n",
    "        return '<strong> {0} </strong>'.format(func(title))\n",
    "    return func_wrapper\n",
    "\n",
    "def div_decorate(func):\n",
    "    def func_wrapper(title):\n",
    "        return '<div> {0} </div>'.format(func(title))\n",
    "    return func_wrapper"
   ]
  },
  {
   "cell_type": "code",
   "execution_count": 40,
   "metadata": {},
   "outputs": [
    {
     "name": "stdout",
     "output_type": "stream",
     "text": [
      "<div> <p> <strong> Larry loves Pong </strong> </p> </div>\n"
     ]
    }
   ],
   "source": [
    "def get_game(title):\n",
    "    return 'Larry loves {0}'.format(title)\n",
    "\n",
    "get_game = div_decorate(p_decorate(strong_decorate(get_game)))\n",
    "\n",
    "print(get_game('Pong'))"
   ]
  },
  {
   "cell_type": "code",
   "execution_count": 47,
   "metadata": {},
   "outputs": [
    {
     "data": {
      "text/plain": [
       "'<div> <p> <strong> Larry loves Destiny 2 </strong> </p> </div>'"
      ]
     },
     "execution_count": 47,
     "metadata": {},
     "output_type": "execute_result"
    }
   ],
   "source": [
    "@div_decorate\n",
    "@p_decorate\n",
    "@strong_decorate\n",
    "def get_game(title):\n",
    "    return 'Larry loves {0}'.format(title)\n",
    "\n",
    "get_game('Destiny 2')"
   ]
  },
  {
   "cell_type": "markdown",
   "metadata": {},
   "source": []
  },
  {
   "cell_type": "code",
   "execution_count": 46,
   "metadata": {},
   "outputs": [
    {
     "name": "stdout",
     "output_type": "stream",
     "text": [
      "<p>Larry loves Board Games - like Dominion</p>\n"
     ]
    }
   ],
   "source": [
    "def tags(tag_name):\n",
    "    def tags_decorator(func):\n",
    "        def func_wrapper(title):\n",
    "            return \"<{0}>{1}</{0}>\".format(tag_name, func(title))\n",
    "        return func_wrapper\n",
    "    return tags_decorator\n",
    "\n",
    "@tags(\"p\")\n",
    "def get_game(title):\n",
    "    return 'Larry loves {0}'.format(title)\n",
    "\n",
    "print (get_game(\"Board Games - like Dominion\"))"
   ]
  },
  {
   "attachments": {},
   "cell_type": "markdown",
   "metadata": {
    "collapsed": true
   },
   "source": [
    "A Python decorator is a specific change to the Python syntax that allows us to more conveniently alter functions and methods \n"
   ]
  },
  {
   "cell_type": "markdown",
   "metadata": {},
   "source": [
    "REFERENCES\n",
    "-----------\n",
    "[A guide to Python's function decorators](https://www.thecodeship.com/patterns/guide-to-python-function-decorators/)<br>\n",
    "[Understanding Python Decorators in 12 Easy Steps!](http://simeonfranklin.com/blog/2012/jul/1/python-decorators-in-12-steps/)"
   ]
  },
  {
   "cell_type": "markdown",
   "metadata": {},
   "source": [
    "Scope\n",
    "-----\n",
    "Python looks first in the namespace of the function to find variable names when it encounters them in the function body"
   ]
  },
  {
   "cell_type": "code",
   "execution_count": 52,
   "metadata": {},
   "outputs": [
    {
     "name": "stdout",
     "output_type": "stream",
     "text": [
      "{'text': 'hello'}\n",
      "This is a global variable\n"
     ]
    },
    {
     "data": {
      "text/plain": [
       "'HELLO!'"
      ]
     },
     "execution_count": 52,
     "metadata": {},
     "output_type": "execute_result"
    }
   ],
   "source": [
    "a_string = \"This is a global variable\"\n",
    "def yell(text):\n",
    "    print(locals())\n",
    "    print(a_string)\n",
    "    return text.upper()+'!'\n",
    "\n",
    "yell('hello')"
   ]
  }
 ],
 "metadata": {
  "kernelspec": {
   "display_name": "Python 3",
   "language": "python",
   "name": "python3"
  },
  "language_info": {
   "codemirror_mode": {
    "name": "ipython",
    "version": 3
   },
   "file_extension": ".py",
   "mimetype": "text/x-python",
   "name": "python",
   "nbconvert_exporter": "python",
   "pygments_lexer": "ipython3",
   "version": "3.6.2"
  }
 },
 "nbformat": 4,
 "nbformat_minor": 2
}
